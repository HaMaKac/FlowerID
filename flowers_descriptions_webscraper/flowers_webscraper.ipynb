{
 "cells": [
  {
   "cell_type": "code",
   "execution_count": null,
   "id": "851fdaff",
   "metadata": {},
   "outputs": [],
   "source": [
    "# https://www.geeksforgeeks.org/implementing-web-scraping-python-beautiful-soup/\n",
    "# https://www.topcoder.com/thrive/articles/web-scraping-with-beautiful-soup\n",
    "# https://www.youtube.com/watch?v=p2mxcrahrgA\n",
    "# https://www.codespeedy.com/how-to-loop-through-json-with-subkeys-in-python/#:~:text=Iterate%20through%20JSON%20with%20keys%20in%20Python&text=To%20iterate%20through%20JSON%20with,load'%20method%20as%20shown%20below.&text=It%20will%20parse%20the%20'json_multidimensional,as%20the%20dictionary%20'my_dict'."
   ]
  },
  {
   "cell_type": "code",
   "execution_count": 4,
   "id": "0677f50e",
   "metadata": {},
   "outputs": [],
   "source": [
    "from selenium import webdriver\n",
    "from selenium.webdriver.chrome.options import Options\n",
    "from selenium.webdriver.common.keys import Keys\n",
    "from bs4 import BeautifulSoup\n",
    "import os"
   ]
  },
  {
   "cell_type": "code",
   "execution_count": 9,
   "id": "2e6f3dfe",
   "metadata": {},
   "outputs": [],
   "source": [
    "import requests\n",
    "from bs4 import BeautifulSoup\n",
    "\n",
    "URL = \"https://en.wikipedia.org/wiki/Calendula_officinalis\"\n",
    "page = requests.get(URL)\n",
    "\n",
    "soup = BeautifulSoup(page.content, \"html.parser\")\n",
    "results = soup.find_all(id = \"info\")\n",
    "\n",
    "for result in results:\n",
    "    print(\"kot\")"
   ]
  },
  {
   "cell_type": "code",
   "execution_count": 122,
   "id": "4391ac07",
   "metadata": {},
   "outputs": [
    {
     "name": "stdout",
     "output_type": "stream",
     "text": [
      "Bromelia is a genus of about 70 plant species widespread across Latin America and the West Indies. It is the type genus of the family Bromeliaceae, subfamily Bromelioideae, and its type species is B. karatas. Bromelia species are characterized by flowers with a deeply cleft calyx. The genus is named after the Swedish medical doctor and botanist Olof Bromelius  (1639-1705).\n"
     ]
    }
   ],
   "source": [
    "import requests\n",
    "from bs4 import BeautifulSoup\n",
    "import re\n",
    "\n",
    "URL = \"https://en.wikipedia.org/wiki/Bromelia\"\n",
    "page = requests.get(URL)\n",
    "\n",
    "soup = BeautifulSoup(page.content, 'html.parser')\n",
    "description = soup.find(class_ = \"mw-parser-output\")\n",
    "\n",
    "text=[]\n",
    "text = description.findAll(\"p\")\n",
    "\n",
    "fragment = text[1].get_text().strip()\n",
    "\n",
    "paragraph = re.sub(r\"\\[[A-Za-z0-9\\s]+\\]\", \"\", fragment)\n",
    "print(paragraph)\n",
    "\n",
    "\n"
   ]
  },
  {
   "cell_type": "code",
   "execution_count": 154,
   "id": "7539574f",
   "metadata": {},
   "outputs": [
    {
     "name": "stdout",
     "output_type": "stream",
     "text": [
      "magnolia\n",
      "\n",
      "Magnolia is a large genus of about 210 to 340 flowering plant species in the subfamily Magnolioideae of the family Magnoliaceae. It is named after French botanist Pierre Magnol.\n"
     ]
    }
   ],
   "source": [
    "import requests\n",
    "from bs4 import BeautifulSoup\n",
    "import re\n",
    "\n",
    "input_flower = \"magnolia\"\n",
    "flower = re.sub(r\"\\s\", \"_\", input_flower)\n",
    "print(flower + '\\n')\n",
    "URL = \"https://en.wikipedia.org/wiki/\" + flower\n",
    "\n",
    "#URL = \"https://en.wikipedia.org/wiki/Bromelia\"\n",
    "page = requests.get(URL)\n",
    "\n",
    "soup = BeautifulSoup(page.content, 'html.parser')\n",
    "description = soup.find(class_ = \"mw-parser-output\")\n",
    "\n",
    "text=[]\n",
    "text = description.findAll(\"p\")\n",
    "\n",
    "fragment = text[1].get_text().strip()\n",
    "\n",
    "paragraph = re.sub(r\"\\[[A-Za-z0-9\\s]+\\]\", \"\", fragment)\n",
    "print(paragraph)"
   ]
  },
  {
   "cell_type": "code",
   "execution_count": 180,
   "id": "00acee00",
   "metadata": {
    "scrolled": false
   },
   "outputs": [
    {
     "name": "stdout",
     "output_type": "stream",
     "text": [
      "Bevor Sie zur Google Suche weitergehenAnmeldenBevor Sie zu Google weitergehenWir verwenden Cookies und Daten, umGoogle-Dienste anzubieten und zu betreibenAusfälle zu prüfen und Maßnahmen gegen Spam, Betrug und Missbrauch zu ergreifenDaten zu Zielgruppeninteraktionen und Websitestatistiken zu erheben. Mit den gewonnenen Informationen möchten wir verstehen, wie unsere Dienste verwendet werden, und die Qualität dieser Dienste verbessern.Wenn Sie „Alle akzeptieren“ auswählen, verwenden wir Cookies und Daten auch, umneue Dienste zu entwickeln und zu verbessernWerbung auszuliefern und ihre Wirkung zu messenpersonalisierte Inhalte anzuzeigen, abhängig von Ihren Einstellungenpersonalisierte Werbung anzuzeigen, abhängig von Ihren EinstellungenWenn Sie „Alle ablehnen“ auswählen, verwenden wir Cookies nicht für diese zusätzlichen Zwecke.Nicht personalisierte Inhalte werden u. a. von Inhalten, die Sie sich gerade ansehen, Aktivitäten in Ihrer aktiven Suchsitzung und Ihrem Standort beeinflusst. Nicht personalisierte Werbung wird von den Inhalten, die Sie sich gerade ansehen, und Ihrem ungefähren Standort beeinflusst. Personalisierte Inhalte und Werbung können auch relevantere Ergebnisse, Empfehlungen und individuelle Werbung enthalten, die auf früheren Aktivitäten in diesem Browser, etwa Suchanfragen bei Google, beruhen. Sofern relevant, verwenden wir Cookies und Daten außerdem, um Inhalte und Werbung altersgerecht zu gestalten.Wählen Sie „Weitere Optionen“ aus, um sich zusätzliche Informationen anzusehen, einschließlich Details zum Verwalten Ihrer Datenschutzeinstellungen. Sie können auch jederzeit g.co/privacytools besuchen.Weitere OptionenAfrikaansazərbaycanbosanskicatalàČeštinaCymraegDanskDeutscheestiEnglish (United Kingdom)English (United States)Español (España)Español (Latinoamérica)euskaraFilipinoFrançais (Canada)Français (France)GaeilgegalegoHrvatskiIndonesiaisiZuluíslenskaItalianoKiswahililatviešulietuviųmagyarMelayuNederlandsnorsko‘zbekpolskiPortuguês (Brasil)Português (Portugal)românăshqipSlovenčinaslovenščinasrpski (latinica)SuomiSvenskaTiếng ViệtTürkçeΕλληνικάбеларускаябългарскикыргызчақазақ тілімакедонскимонголРусскийсрпскиУкраїнськаქართულიհայերենעבריתاردوالعربيةفارسیአማርኛनेपालीमराठीहिन्दीঅসমীয়াবাংলাਪੰਜਾਬੀગુજરાતીଓଡ଼ିଆதமிழ்తెలుగుಕನ್ನಡമലയാളംසිංහලไทยລາວမြန်မာខ្មែរ한국어日本語简体中文繁體中文繁體中文 (香港)Datenschutzerklärung Nutzungsbedingungen\n"
     ]
    }
   ],
   "source": [
    "import requests\n",
    "from bs4 import BeautifulSoup\n",
    "import re\n",
    "\n",
    "URL = \"https://www.google.com/search?q=ball+moss\"\n",
    "page = requests.get(URL)\n",
    "\n",
    "soup = BeautifulSoup(page.content, 'html.parser').get_text()\n",
    "#description = soup.find(class_ = \"kno-rdesc\")\n",
    "\n",
    "print(soup)"
   ]
  },
  {
   "cell_type": "code",
   "execution_count": 208,
   "id": "359c65d7",
   "metadata": {},
   "outputs": [
    {
     "name": "stdout",
     "output_type": "stream",
     "text": [
      "DescriptionTillandsia recurvata, commonly known as small ballmoss or ball moss, is a flowering plant in the family Bromeliaceae that grows upon larger host plants. It grows well in areas with low light, little airflow, and high humidity, which is commonly provided by southern shade trees, often the southern live oak. Wikipedia\n"
     ]
    }
   ],
   "source": [
    "from selenium import webdriver\n",
    "from webdriver_manager.chrome import ChromeDriverManager\n",
    "from selenium.webdriver.chrome.service import Service\n",
    "#driver_service = Service(executable_path=ChromeDriverManager().install())\n",
    "driver = webdriver.Chrome(service=driver_service)\n",
    "driver.get(\"https://www.google.com/search?q=ball+moss\")\n",
    "\n",
    "opts = Options()\n",
    "opts.add_argument(\" --headless\")\n",
    "opts.add_argument(\"--log-level=3\")\n",
    "opts.add_experimental_option('excludeSwitches', ['enable-logging'])\n",
    "driver.maximize_window()\n",
    "\n",
    "reject_cookies = '/html/body/div[3]/div[3]/span/div/div/div/div[3]/div[1]/button[1]/div'\n",
    "driver.find_element(\"xpath\", reject_cookies).click()\n",
    "\n",
    "page_source = driver.page_source\n",
    "\n",
    "soup = BeautifulSoup(page_source, \"html.parser\")\n",
    "results = soup.find(class_ = \"kno-rdesc\").text\n",
    "\n",
    "print(results)"
   ]
  },
  {
   "cell_type": "code",
   "execution_count": 232,
   "id": "3a2547e3",
   "metadata": {},
   "outputs": [
    {
     "name": "stdout",
     "output_type": "stream",
     "text": [
      "Gazania\n",
      "\n",
      "Gazania is a genus of flowering plants in the family Asteraceae, native to Southern Africa.\n",
      "They produce large, daisy-like composite flowerheads in brilliant shades of yellow and orange, over a long period in summer. They are often planted as drought-tolerant groundcover.\n"
     ]
    }
   ],
   "source": [
    "from selenium import webdriver\n",
    "from webdriver_manager.chrome import ChromeDriverManager\n",
    "from selenium.webdriver.chrome.service import Service\n",
    "import requests\n",
    "from bs4 import BeautifulSoup\n",
    "import re\n",
    "\n",
    "#driver_service = Service(executable_path=ChromeDriverManager().install())\n",
    "\n",
    "driver = webdriver.Chrome(service=driver_service)\n",
    "\n",
    "flower = \"gazania\"\n",
    "print(flower[0].upper() + flower[1:] + '\\n')\n",
    "URL = \"https://www.google.com/search?q=\" + flower\n",
    "\n",
    "driver.get(URL)\n",
    "\n",
    "opts = Options()\n",
    "opts.add_argument(\" --headless\")\n",
    "opts.add_argument(\"--log-level=3\")\n",
    "opts.add_experimental_option('excludeSwitches', ['enable-logging'])\n",
    "driver.maximize_window()\n",
    "\n",
    "reject_cookies = '/html/body/div[3]/div[3]/span/div/div/div/div[3]/div[1]/button[1]/div'\n",
    "driver.find_element(\"xpath\", reject_cookies).click()\n",
    "\n",
    "page_source = driver.page_source\n",
    "\n",
    "soup = BeautifulSoup(page_source, \"html.parser\")\n",
    "results = soup.find(class_ = \"kno-rdesc\").text\n",
    "\n",
    "paragraph = re.sub(r\"Description|\\sWikipedia\", \"\", results)\n",
    "print(paragraph)\n",
    "\n",
    "driver.quit()"
   ]
  },
  {
   "cell_type": "code",
   "execution_count": 237,
   "id": "29715c12",
   "metadata": {
    "scrolled": true
   },
   "outputs": [
    {
     "name": "stdout",
     "output_type": "stream",
     "text": [
      "{'0': 'pink primrose', '1': 'hard-leaved pocket orchid', '2': 'canterbury bells', '3': 'sweet pea', '4': 'english marigold', '5': 'tiger lily', '6': 'moon orchid', '7': 'bird of paradise', '8': 'monkshood', '9': 'globe thistle', '10': 'snapdragon', '11': \"colt's foot\", '12': 'king protea', '13': 'spear thistle', '14': 'yellow iris', '15': 'globe-flower', '16': 'purple coneflower', '17': 'peruvian lily', '18': 'balloon flower', '19': 'giant white arum lily', '20': 'fire lily', '21': 'pincushion flower', '22': 'fritillary', '23': 'red ginger', '24': 'grape hyacinth', '25': 'corn poppy', '26': 'prince of wales feathers', '27': 'stemless gentian', '28': 'artichoke', '29': 'sweet william', '30': 'carnation', '31': 'garden phlox', '32': 'love in the mist', '33': 'mexican aster', '34': 'alpine sea holly', '35': 'ruby-lipped cattleya', '36': 'cape flower', '37': 'great masterwort', '38': 'siam tulip', '39': 'lenten rose', '40': 'barbeton daisy', '41': 'daffodil', '42': 'sword lily', '43': 'poinsettia', '44': 'bolero deep blue', '45': 'wallflower', '46': 'marigold', '47': 'buttercup', '48': 'oxeye daisy', '49': 'common dandelion', '50': 'petunia', '51': 'wild pansy', '52': 'primula', '53': 'sunflower', '54': 'pelargonium', '55': 'bishop of llandaff', '56': 'gaura', '57': 'geranium', '58': 'orange dahlia', '59': 'pink-yellow dahlia?', '60': 'cautleya spicata', '61': 'japanese anemone', '62': 'black-eyed susan', '63': 'silverbush', '64': 'californian poppy', '65': 'osteospermum', '66': 'spring crocus', '67': 'bearded iris', '68': 'windflower', '69': 'tree poppy', '70': 'gazania', '71': 'azalea', '72': 'water lily', '73': 'rose', '74': 'thorn apple', '75': 'morning glory', '76': 'passion flower', '77': 'lotus', '78': 'toad lily', '79': 'anthurium', '80': 'frangipani', '81': 'clematis', '82': 'hibiscus', '83': 'columbine', '84': 'desert-rose', '85': 'tree mallow', '86': 'magnolia', '87': 'cyclamen ', '88': 'watercress', '89': 'canna lily', '90': 'hippeastrum ', '91': 'bee balm', '92': 'ball moss', '93': 'foxglove', '94': 'bougainvillea', '95': 'camellia', '96': 'mallow', '97': 'mexican petunia', '98': 'bromelia', '99': 'blanket flower', '100': 'trumpet creeper', '101': 'blackberry lily'}\n",
      "<class 'dict'>\n"
     ]
    },
    {
     "ename": "KeyError",
     "evalue": "0",
     "output_type": "error",
     "traceback": [
      "\u001b[1;31m---------------------------------------------------------------------------\u001b[0m",
      "\u001b[1;31mKeyError\u001b[0m                                  Traceback (most recent call last)",
      "Cell \u001b[1;32mIn[237], line 12\u001b[0m\n\u001b[0;32m      9\u001b[0m \u001b[38;5;28mprint\u001b[39m(json_object)\n\u001b[0;32m     10\u001b[0m \u001b[38;5;28mprint\u001b[39m(\u001b[38;5;28mtype\u001b[39m(json_object))\n\u001b[1;32m---> 12\u001b[0m \u001b[38;5;28mprint\u001b[39m(\u001b[43mjson_object\u001b[49m\u001b[43m[\u001b[49m\u001b[38;5;241;43m0\u001b[39;49m\u001b[43m]\u001b[49m)\n",
      "\u001b[1;31mKeyError\u001b[0m: 0"
     ]
    }
   ],
   "source": [
    "import json\n",
    " \n",
    "# Opening JSON file\n",
    "with open('flowers.json', 'r') as openfile:\n",
    " \n",
    "    # Reading from json file\n",
    "    json_object = json.load(openfile)\n",
    " \n",
    "print(json_object)\n",
    "print(type(json_object))"
   ]
  },
  {
   "cell_type": "code",
   "execution_count": 258,
   "id": "e964b46b",
   "metadata": {},
   "outputs": [],
   "source": [
    "import json\n",
    " \n",
    "dictionary = {\n",
    "    flower: paragraph\n",
    "}\n",
    " \n",
    "with open(\"sample.json\", \"w\") as outfile:\n",
    "    json.dump(dictionary, outfile)"
   ]
  },
  {
   "cell_type": "code",
   "execution_count": 256,
   "id": "d58de055",
   "metadata": {
    "scrolled": true
   },
   "outputs": [
    {
     "name": "stdout",
     "output_type": "stream",
     "text": [
      "pink primrose\n",
      "hard-leaved pocket orchid\n",
      "canterbury bells\n",
      "sweet pea\n",
      "english marigold\n",
      "tiger lily\n",
      "moon orchid\n",
      "bird of paradise\n",
      "monkshood\n",
      "globe thistle\n",
      "snapdragon\n",
      "colt's foot\n",
      "king protea\n",
      "spear thistle\n",
      "yellow iris\n",
      "globe-flower\n",
      "purple coneflower\n",
      "peruvian lily\n",
      "balloon flower\n",
      "giant white arum lily\n",
      "fire lily\n",
      "pincushion flower\n",
      "fritillary\n",
      "red ginger\n",
      "grape hyacinth\n",
      "corn poppy\n",
      "prince of wales feathers\n",
      "stemless gentian\n",
      "artichoke\n",
      "sweet william\n",
      "carnation\n",
      "garden phlox\n",
      "love in the mist\n",
      "mexican aster\n",
      "alpine sea holly\n",
      "ruby-lipped cattleya\n",
      "cape flower\n",
      "great masterwort\n",
      "siam tulip\n",
      "lenten rose\n",
      "barbeton daisy\n",
      "daffodil\n",
      "sword lily\n",
      "poinsettia\n",
      "bolero deep blue\n",
      "wallflower\n",
      "marigold\n",
      "buttercup\n",
      "oxeye daisy\n",
      "common dandelion\n",
      "petunia\n",
      "wild pansy\n",
      "primula\n",
      "sunflower\n",
      "pelargonium\n",
      "bishop of llandaff\n",
      "gaura\n",
      "geranium\n",
      "orange dahlia\n",
      "pink-yellow dahlia\n",
      "cautleya spicata\n",
      "japanese anemone\n",
      "black-eyed susan\n",
      "silverbush\n",
      "californian poppy\n",
      "osteospermum\n",
      "spring crocus\n",
      "bearded iris\n",
      "windflower\n",
      "tree poppy\n",
      "gazania\n",
      "azalea\n",
      "water lily\n",
      "rose\n",
      "thorn apple\n",
      "morning glory\n",
      "passion flower\n",
      "lotus\n",
      "toad lily\n",
      "anthurium\n",
      "frangipani\n",
      "clematis\n",
      "hibiscus\n",
      "columbine\n",
      "desert-rose\n",
      "tree mallow\n",
      "magnolia\n",
      "cyclamen \n",
      "watercress\n",
      "canna lily\n",
      "hippeastrum \n",
      "bee balm\n",
      "ball moss\n",
      "foxglove\n",
      "bougainvillea\n",
      "camellia\n",
      "mallow\n",
      "mexican petunia\n",
      "bromelia\n",
      "blanket flower\n",
      "trumpet creeper\n",
      "blackberry lily\n",
      "pink primrose\n"
     ]
    }
   ],
   "source": [
    "import json\n",
    "with open('flowers.json','r') as string:\n",
    "    my_dict=json.load(string)\n",
    "string.close()\n",
    "\n",
    "for k in my_dict:\n",
    "    print(str(my_dict[k]))\n",
    "    \n",
    "print(str(my_dict[\"0\"]))"
   ]
  },
  {
   "cell_type": "code",
   "execution_count": 287,
   "id": "6dbea445",
   "metadata": {
    "scrolled": false
   },
   "outputs": [],
   "source": [
    "from selenium import webdriver\n",
    "from webdriver_manager.chrome import ChromeDriverManager\n",
    "from selenium.webdriver.chrome.service import Service\n",
    "import requests\n",
    "from bs4 import BeautifulSoup\n",
    "import re\n",
    "import json\n",
    "\n",
    "# driver_service = Service(executable_path=ChromeDriverManager().install())\n",
    "\n",
    "with open('flowers.json','r') as string:\n",
    "    flowers=json.load(string)\n",
    "string.close()\n",
    "\n",
    "dictionary = dict()\n",
    "\n",
    "for k in flowers:\n",
    "    driver = webdriver.Chrome(service=driver_service)\n",
    "\n",
    "    flower = (str(flowers[k]))\n",
    "    # print(flower[0].upper() + flower[1:] + '\\n')\n",
    "    URL = \"https://www.google.com/search?q=\" + flower\n",
    "\n",
    "    driver.get(URL)\n",
    "\n",
    "    opts = Options()\n",
    "    opts.add_argument(\" --headless\")\n",
    "    opts.add_argument(\"--log-level=3\")\n",
    "    opts.add_experimental_option('excludeSwitches', ['enable-logging'])\n",
    "    driver.maximize_window()\n",
    "\n",
    "    reject_cookies = '/html/body/div[3]/div[3]/span/div/div/div/div[3]/div[1]/button[1]/div'\n",
    "    driver.find_element(\"xpath\", reject_cookies).click()\n",
    "\n",
    "    page_source = driver.page_source\n",
    "\n",
    "    soup = BeautifulSoup(page_source, \"html.parser\")\n",
    "    results = soup.find(class_ = \"kno-rdesc\").text\n",
    "\n",
    "    paragraph = re.sub(r\"Description|\\sWikipedia\", \"\", results)\n",
    "    # print(paragraph + '\\n')\n",
    "\n",
    "    driver.quit()\n",
    "    \n",
    "    dictionary[flower] = paragraph\n",
    "\n",
    "    with open(\"flowers_description.json\", \"w\") as outfile:\n",
    "        json.dump(dictionary, outfile, indent=2)"
   ]
  },
  {
   "cell_type": "code",
   "execution_count": null,
   "id": "332dea4c",
   "metadata": {},
   "outputs": [],
   "source": []
  }
 ],
 "metadata": {
  "kernelspec": {
   "display_name": "Python 3 (ipykernel)",
   "language": "python",
   "name": "python3"
  },
  "language_info": {
   "codemirror_mode": {
    "name": "ipython",
    "version": 3
   },
   "file_extension": ".py",
   "mimetype": "text/x-python",
   "name": "python",
   "nbconvert_exporter": "python",
   "pygments_lexer": "ipython3",
   "version": "3.9.7"
  }
 },
 "nbformat": 4,
 "nbformat_minor": 5
}
